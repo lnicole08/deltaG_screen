{
 "cells": [
  {
   "cell_type": "code",
   "execution_count": 1,
   "metadata": {},
   "outputs": [],
   "source": [
    "#import relevant libraries\n",
    "import sys\n",
    "import os\n",
    "import glob\n",
    "\n",
    "import numpy as np\n",
    "import scipy as sp\n",
    "import pandas as pd\n",
    "import matplotlib as mpl\n",
    "import seaborn as sns\n",
    "import datetime as dt\n",
    "import shutil\n",
    "#NOTE: SUPPRESSES WARNINGS!\n",
    "\n",
    "import warnings\n",
    "\n",
    "warnings.simplefilter(action=\"ignore\", category=RuntimeWarning)\n",
    "#warnings.simplefilter(action=\"default\", category=RuntimeWarning)\n"
   ]
  },
  {
   "cell_type": "code",
   "execution_count": 2,
   "metadata": {},
   "outputs": [
    {
     "name": "stdout",
     "output_type": "stream",
     "text": [
      "['w1118 x elav[test]']\n"
     ]
    }
   ],
   "source": [
    "#initial file processing\n",
    "\n",
    "path0 = \"C:\\\\Users\\\\lnico\\\\\"\n",
    "path1 = \"D:\\\\\"\n",
    "path2 = \"ACC Lab Dropbox\\\\ACC Lab\\\\Nicole Lee\\\\DATA\\\\Falling\\\\unfinished\\\\20240730\\\\\"\n",
    "openPath = path0 + path2\n",
    "\n",
    "#openPath = \"C:\\\\Users\\\\User\\\\ACC Lab Dropbox\\\\ACC Lab\\\\Nicole Lee\\\\DATA\\\\Testing\\\\20241119\\\\\"\n",
    "\n",
    "files = os.listdir(openPath)\n",
    "\n",
    "print (files)"
   ]
  },
  {
   "cell_type": "code",
   "execution_count": 3,
   "metadata": {},
   "outputs": [
    {
     "name": "stdout",
     "output_type": "stream",
     "text": [
      "ClimbLog_2024-11-19_11-01-57_w1118 x elav[test].csv\n",
      "ClimbLog_2024-11-19_11-18-00_w1118 x elav[test].csv\n",
      "ClimbLog_2024-11-19_11-40-46_w1118 x elav[test].csv\n",
      "done!\n"
     ]
    }
   ],
   "source": [
    "#renames files\n",
    "\n",
    "for f in files:\n",
    "    \n",
    "    Path1 = openPath + f  #returns me E:\\20210905\\R58E02 x ACR --> also the file i want to save the new labels in       \n",
    "    destination = openPath + f +\"\\\\climblog\"\n",
    "    \n",
    "    isExist = os.path.exists(destination)\n",
    "    #if not isExist:\n",
    "        #os.makedirs(destination)\n",
    "    #print (destination)\n",
    "    ####################################\n",
    "    \n",
    "    files2 = os.listdir(Path1)  #returns me EighthGreen, HalfGreen etc etc   \n",
    "\n",
    "    for j in files2: #opens each excel file\n",
    "        if j.startswith(\"ClimbLog\"):\n",
    "            jj= os.path.splitext(j)[0]\n",
    "            renamed = jj + '_' + f + \".csv\"  #new file name\n",
    "                #renaming the file\n",
    "            print(renamed)\n",
    "            os.chdir(Path1)\n",
    "            cwd = os.getcwd()\n",
    "                #print (cwd)                \n",
    "            countlogfile = os.rename(j,renamed)     \n",
    "print(\"done!\")"
   ]
  },
  {
   "cell_type": "code",
   "execution_count": null,
   "metadata": {},
   "outputs": [],
   "source": []
  }
 ],
 "metadata": {
  "kernelspec": {
   "display_name": "test",
   "language": "python",
   "name": "python3"
  },
  "language_info": {
   "codemirror_mode": {
    "name": "ipython",
    "version": 3
   },
   "file_extension": ".py",
   "mimetype": "text/x-python",
   "name": "python",
   "nbconvert_exporter": "python",
   "pygments_lexer": "ipython3",
   "version": "3.11.9"
  }
 },
 "nbformat": 4,
 "nbformat_minor": 4
}
