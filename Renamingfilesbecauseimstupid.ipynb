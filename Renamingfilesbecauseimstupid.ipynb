{
 "cells": [
  {
   "cell_type": "code",
   "execution_count": 2,
   "id": "6b61b0b6-0b2a-48ff-9881-3fe76956e03f",
   "metadata": {},
   "outputs": [],
   "source": [
    "#import relevant libraries: pip install re, pip install natsort, pip install plotly==5.10.0\n",
    "import sys\n",
    "import os\n",
    "import glob\n",
    "\n",
    "import numpy as np\n",
    "import scipy as sp\n",
    "import pandas as pd\n",
    "import matplotlib as mpl\n",
    "import datetime as dt8\n",
    "import math\n",
    "import matplotlib.pyplot as plt\n",
    "import decimal\n",
    "import re\n",
    "from natsort import index_natsorted\n",
    "import dabest\n",
    "import dabest_jck\n",
    "\n",
    "import NLCLIMB \n",
    "import NLMATH\n",
    "\n",
    "import plotly.express as px \n",
    "from plotly.subplots import make_subplots\n",
    "import plotly.graph_objects as go\n",
    "\n",
    "#NOTE: SUPPRESSES WARNINGS!\n",
    "\n",
    "import warnings\n",
    "\n",
    "\n",
    "warnings.simplefilter(action=\"ignore\", category=RuntimeWarning)\n",
    "warnings.simplefilter(action='ignore', category=pd.errors.PerformanceWarning)"
   ]
  },
  {
   "cell_type": "code",
   "execution_count": 33,
   "id": "8487a249",
   "metadata": {},
   "outputs": [
    {
     "name": "stdout",
     "output_type": "stream",
     "text": [
      "['ClimbLog_2024-05-30_15-52-10_SS46348 x Chrimson2.csv', 'ClimbLog_2024-05-30_15-59-26_SS46348 x Chrimson2.csv', 'ClimbLog_2024-05-30_16-04-11_SS46348 x Chrimson2.csv', 'ClimbLog_2024-05-30_16-15-12_SS46348 x Chrimson2.csv', 'ClimbLog_2024-05-30_16-24-07_SS46348 x Chrimson2.csv', 'ClimbLog_2024-05-30_17-26-47_w1118 x SS46348.csv', 'ClimbLog_2024-05-30_17-36-00_w1118 x Chrimson2.csv', 'ClimbLog_2024-05-30_17-46-05_w1118 x Chrimson2.csv', 'ClimbLog_2024-05-30_17-56-43_w1118 x Chrimson2.csv', 'ClimbLog_2024-05-30_18-10-51_w1118 x Chrimson2.csv', 'ClimbLog_2024-05-31_18-01-24_w1118 x SS46348.csv', 'ClimbLog_2024-05-31_18-10-23_w1118 x SS46348.csv', 'ClimbLog_2024-05-31_18-22-09_w1118 x SS46348.csv']\n"
     ]
    }
   ],
   "source": [
    "#Initial file processing\n",
    "filedir = \"D:\\\\ACC Lab Dropbox\\\\ACC Lab\\\\Nicole Lee\\\\DATA\\\\Falling\\\\Falling_Chrimson2\\\\SS46348 x Chrimson2\\\\\"\n",
    "files = os.listdir(filedir)\n",
    "\n",
    "for n in files:\n",
    "    os.chdir(filedir)\n",
    "    cwd = os.getcwd()\n",
    "    dst = n.replace('SS46384', 'SS46348')\n",
    "    os.rename(n, dst)\n",
    "    \n",
    "print(os.listdir(filedir))"
   ]
  },
  {
   "cell_type": "code",
   "execution_count": null,
   "id": "a950ab44",
   "metadata": {},
   "outputs": [],
   "source": []
  }
 ],
 "metadata": {
  "kernelspec": {
   "display_name": "Python 3 (ipykernel)",
   "language": "python",
   "name": "python3"
  },
  "language_info": {
   "codemirror_mode": {
    "name": "ipython",
    "version": 3
   },
   "file_extension": ".py",
   "mimetype": "text/x-python",
   "name": "python",
   "nbconvert_exporter": "python",
   "pygments_lexer": "ipython3",
   "version": "3.10.9"
  }
 },
 "nbformat": 4,
 "nbformat_minor": 5
}
