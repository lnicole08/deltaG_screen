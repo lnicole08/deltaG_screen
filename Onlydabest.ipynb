{
 "cells": [
  {
   "cell_type": "code",
   "execution_count": 1,
   "metadata": {},
   "outputs": [],
   "source": [
    "#import relevant libraries\n",
    "import os\n",
    "from scipy import stats\n",
    "\n",
    "import numpy as np\n",
    "import scipy as sp\n",
    "import pandas as pd\n",
    "import matplotlib as mpl\n",
    "import matplotlib.pyplot as plt\n",
    "import seaborn as sns\n",
    "import dabest\n",
    "import NLCLIMB\n",
    "import NLMATH\n",
    "import itertools\n",
    "from datetime import datetime\n",
    "date = datetime.today().strftime('%Y%m%d')\n",
    "from statistics import mean\n",
    "from textwrap import wrap\n",
    "\n",
    "import dabest_jck\n",
    "import plotly.express as px \n",
    "from plotly.subplots import make_subplots\n",
    "import plotly.graph_objects as go\n",
    "from plotly.graph_objects import Layout\n",
    "from mpl_toolkits.axes_grid1.inset_locator import inset_axes\n",
    "\n",
    "#NOTE: SUPPRESSES WARNINGS!\n",
    "\n",
    "import warnings\n",
    "\n",
    "\n",
    "warnings.simplefilter(action=\"ignore\", category=RuntimeWarning)\n",
    "warnings.simplefilter(action=\"ignore\", category=UserWarning)\n",
    "warnings.simplefilter(action='ignore', category=pd.errors.PerformanceWarning)\n",
    "warnings.simplefilter(action='ignore', category=FutureWarning)\n"
   ]
  },
  {
   "cell_type": "code",
   "execution_count": 5,
   "metadata": {},
   "outputs": [
    {
     "name": "stdout",
     "output_type": "stream",
     "text": [
      "D:\\ACC Lab Dropbox\\ACC Lab\\Nicole Lee\\Data Compilation\\Falling_New\\MB082C x Chrimson2.csv\n",
      "D:\\ACC Lab Dropbox\\ACC Lab\\Nicole Lee\\Data Compilation\\Falling_New\\w1118_MB082C x Chrimson2.csv\n"
     ]
    }
   ],
   "source": [
    "#initial file processing\n",
    "computer1 = \"C:\\\\Users\\\\User\"\n",
    "computer2 = \"C:\\\\Users\\\\lnico\"\n",
    "homecomp = \"D:\"\n",
    "filedir = \"\\\\ACC Lab Dropbox\\\\ACC Lab\\\\Nicole Lee\\\\Data Compilation\\\\Falling_New\\\\\"\n",
    "openPath = homecomp + filedir\n",
    "files = os.listdir(openPath)\n",
    "\n",
    "#identifying genotypes\n",
    "responder = \"Chrimson2\"\n",
    "driver = \"MB082C\"\n",
    "\n",
    "wt = \"w1118\"\n",
    "transgenic = driver + \" x \" + responder\n",
    "filename = openPath + transgenic + \".csv\"\n",
    "filenamewt = openPath + wt+\"_\"+ transgenic + \".csv\"\n",
    "\n",
    "print(filename)\n",
    "print(filenamewt)"
   ]
  },
  {
   "cell_type": "code",
   "execution_count": 7,
   "metadata": {},
   "outputs": [],
   "source": [
    "def fivesecondrule(dfexpt):\n",
    "    number = 20.0\n",
    "    fivesecondsdark = dfexpt[(dfexpt['ExperimentState']== 'Dark')][dfexpt[(dfexpt['ExperimentState']== 'Dark')]['Seconds'].between(3.0, float(3.0+number), inclusive = \"both\")]\n",
    "    fivesecondsfull = dfexpt[(dfexpt['ExperimentState']== 'Full')][dfexpt[(dfexpt['ExperimentState']== 'Full')]['Seconds'].between(26.0, float(26.0+number), inclusive = \"both\")]\n",
    "    fivesecondsrecovery = dfexpt[(dfexpt['ExperimentState']== 'Recovery')][dfexpt[(dfexpt['ExperimentState']== 'Recovery')]['Seconds'].between(46.0, float(46.0+number), inclusive = \"both\")]\n",
    "\n",
    "    fiveseconddfs = pd.concat([fivesecondsdark, fivesecondsfull, fivesecondsrecovery]).reset_index(drop=True)\n",
    "\n",
    "    return fiveseconddfs"
   ]
  },
  {
   "cell_type": "code",
   "execution_count": 8,
   "metadata": {},
   "outputs": [],
   "source": [
    "dfe=pd.read_csv(filename)\n",
    "dfw= pd.read_csv(filenamewt)\n",
    "\n",
    "exptdf = dfe.drop(dfe.columns[[0]],axis = 1)\n",
    "wtdf = dfw.drop(dfw.columns[[0]],axis = 1)\n",
    "\n",
    "dfexpt = fivesecondrule(NLCLIMB.generation(exptdf, driver))\n",
    "dfwt = fivesecondrule(NLCLIMB.generation(wtdf, wt))"
   ]
  },
  {
   "cell_type": "code",
   "execution_count": 9,
   "metadata": {},
   "outputs": [],
   "source": [
    "df_sp = NLMATH.ospeed(dfwt, dfexpt).reset_index(drop=True)\n",
    "dfs2 = NLMATH.deltaversion(df_sp, driver, \"Velocity\")"
   ]
  },
  {
   "cell_type": "code",
   "execution_count": 10,
   "metadata": {},
   "outputs": [
    {
     "data": {
      "text/html": [
       "<div>\n",
       "<style scoped>\n",
       "    .dataframe tbody tr th:only-of-type {\n",
       "        vertical-align: middle;\n",
       "    }\n",
       "\n",
       "    .dataframe tbody tr th {\n",
       "        vertical-align: top;\n",
       "    }\n",
       "\n",
       "    .dataframe thead th {\n",
       "        text-align: right;\n",
       "    }\n",
       "</style>\n",
       "<table border=\"1\" class=\"dataframe\">\n",
       "  <thead>\n",
       "    <tr style=\"text-align: right;\">\n",
       "      <th></th>\n",
       "      <th>MBON</th>\n",
       "      <th>WT</th>\n",
       "      <th>Expt</th>\n",
       "      <th>delta_g</th>\n",
       "    </tr>\n",
       "  </thead>\n",
       "  <tbody>\n",
       "    <tr>\n",
       "      <th>MB082C</th>\n",
       "      <td>MB082C</td>\n",
       "      <td>-0.047</td>\n",
       "      <td>-0.352</td>\n",
       "      <td>-0.236</td>\n",
       "    </tr>\n",
       "  </tbody>\n",
       "</table>\n",
       "</div>"
      ],
      "text/plain": [
       "          MBON     WT   Expt  delta_g\n",
       "MB082C  MB082C -0.047 -0.352   -0.236"
      ]
     },
     "execution_count": 10,
     "metadata": {},
     "output_type": "execute_result"
    }
   ],
   "source": [
    "dfs2"
   ]
  },
  {
   "cell_type": "code",
   "execution_count": 16,
   "metadata": {},
   "outputs": [],
   "source": [
    "df6 = df_sp[(df_sp['ExperimentState'] != \"Recovery\") ]       \n",
    "name = []\n",
    "if any(df6[\"Velocity\"].isnull()):\n",
    "    name = df6[df6[\"Velocity\"].isnull()]['index'].tolist()\n",
    "dfsp_db = df6[~df6['index'].isin(name)]\n",
    "    \n",
    "dfsp_db2 = dabest_jck.load(data = dfsp_db, x = [\"ExperimentState\", \"Type\"], y = \"Velocity\",  delta2 = True, experiment = \"Type\",\n",
    "                        experiment_label = ['WT', 'Expt'], x1_level = [\"Dark\", \"Full\"], paired = \"baseline\", id_col=\"index\" ) #if delta2 = dabest; deltaG = dabest_jck\n",
    "dfstatstest = dfsp_db2.delta_g.statistical_tests"
   ]
  },
  {
   "cell_type": "code",
   "execution_count": null,
   "metadata": {},
   "outputs": [],
   "source": []
  }
 ],
 "metadata": {
  "kernelspec": {
   "display_name": "base",
   "language": "python",
   "name": "python3"
  },
  "language_info": {
   "codemirror_mode": {
    "name": "ipython",
    "version": 3
   },
   "file_extension": ".py",
   "mimetype": "text/x-python",
   "name": "python",
   "nbconvert_exporter": "python",
   "pygments_lexer": "ipython3",
   "version": "3.10.9"
  }
 },
 "nbformat": 4,
 "nbformat_minor": 2
}
