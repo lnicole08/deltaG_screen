{
 "cells": [
  {
   "cell_type": "code",
   "execution_count": 3,
   "metadata": {},
   "outputs": [],
   "source": [
    "#import relevant libraries\n",
    "import sys\n",
    "import os\n",
    "import glob\n",
    "\n",
    "import numpy as np\n",
    "import scipy as sp\n",
    "import pandas as pd\n",
    "import matplotlib as mpl\n",
    "import seaborn as sns\n",
    "import datetime as dt\n",
    "import shutil\n",
    "#NOTE: SUPPRESSES WARNINGS!\n",
    "\n",
    "import warnings\n",
    "\n",
    "warnings.simplefilter(action=\"ignore\", category=RuntimeWarning)\n",
    "#warnings.simplefilter(action=\"default\", category=RuntimeWarning)\n"
   ]
  },
  {
   "cell_type": "code",
   "execution_count": 5,
   "metadata": {},
   "outputs": [
    {
     "name": "stdout",
     "output_type": "stream",
     "text": [
      "['SS81521 x Tsh_Chrimson2', 'SS81521 x Tub_Tsh_Chrimson2', 'VT999036 x Tsh_Chrimson2', 'VT999036 x Tub_Tsh_Chrimson2', 'w1118 x Tsh_Chrimson2', 'w1118 x Tub_Tsh_Chrimson2']\n"
     ]
    }
   ],
   "source": [
    "#initial file processing\n",
    "\n",
    "path0 = \"C:\\\\Users\\\\lnico\\\\\"\n",
    "path1 = \"D:\\\\\"\n",
    "path2 = \"ACC Lab Dropbox\\\\ACC Lab\\\\Nicole Lee\\\\DATA\\\\Falling\\\\unfinished\\\\20240730\\\\\"\n",
    "openPath = path0 + path2\n",
    "\n",
    "files = os.listdir(openPath)\n",
    "\n",
    "print (files)"
   ]
  },
  {
   "cell_type": "code",
   "execution_count": 6,
   "metadata": {},
   "outputs": [
    {
     "name": "stdout",
     "output_type": "stream",
     "text": [
      "ClimbLog_2024-07-31_15-36-14_SS81521 x Tsh_Chrimson2.csv\n",
      "ClimbLog_2024-07-31_15-42-19_SS81521 x Tsh_Chrimson2.csv\n",
      "ClimbLog_2024-07-31_13-43-01_SS81521 x Tub_Tsh_Chrimson2.csv\n",
      "ClimbLog_2024-07-31_15-13-40_VT999036 x Tsh_Chrimson2.csv\n",
      "ClimbLog_2024-07-31_15-25-22_VT999036 x Tsh_Chrimson2.csv\n",
      "ClimbLog_2024-07-31_14-53-21_VT999036 x Tub_Tsh_Chrimson2.csv\n",
      "ClimbLog_2024-07-31_15-05-42_VT999036 x Tub_Tsh_Chrimson2.csv\n",
      "ClimbLog_2024-07-31_14-22-19_w1118 x Tsh_Chrimson2.csv\n",
      "ClimbLog_2024-07-31_14-28-30_w1118 x Tsh_Chrimson2.csv\n",
      "ClimbLog_2024-07-31_14-37-18_w1118 x Tsh_Chrimson2.csv\n",
      "ClimbLog_2024-07-31_14-42-18_w1118 x Tsh_Chrimson2.csv\n",
      "ClimbLog_2024-07-30_16-51-06_w1118 x Tub_Tsh_Chrimson2.csv\n",
      "ClimbLog_2024-07-31_13-54-46_w1118 x Tub_Tsh_Chrimson2.csv\n",
      "ClimbLog_2024-07-31_14-03-50_w1118 x Tub_Tsh_Chrimson2.csv\n",
      "ClimbLog_2024-07-31_14-13-05_w1118 x Tub_Tsh_Chrimson2.csv\n",
      "done!\n"
     ]
    }
   ],
   "source": [
    "#renames files\n",
    "\n",
    "for f in files:\n",
    "    \n",
    "    Path1 = openPath + f  #returns me E:\\20210905\\R58E02 x ACR --> also the file i want to save the new labels in       \n",
    "    destination = openPath + f +\"\\\\climblog\"\n",
    "    \n",
    "    isExist = os.path.exists(destination)\n",
    "    #if not isExist:\n",
    "        #os.makedirs(destination)\n",
    "    #print (destination)\n",
    "    ####################################\n",
    "    \n",
    "    files2 = os.listdir(Path1)  #returns me EighthGreen, HalfGreen etc etc   \n",
    "\n",
    "    for j in files2: #opens each excel file\n",
    "        if j.startswith(\"ClimbLog\"):\n",
    "            jj= os.path.splitext(j)[0]\n",
    "            renamed = jj + '_' + f + \".csv\"  #new file name\n",
    "                #renaming the file\n",
    "            print(renamed)\n",
    "            os.chdir(Path1)\n",
    "            cwd = os.getcwd()\n",
    "                #print (cwd)                \n",
    "            countlogfile = os.rename(j,renamed)     \n",
    "print(\"done!\")"
   ]
  },
  {
   "cell_type": "code",
   "execution_count": null,
   "metadata": {},
   "outputs": [],
   "source": []
  }
 ],
 "metadata": {
  "kernelspec": {
   "display_name": "Python 3 (ipykernel)",
   "language": "python",
   "name": "python3"
  },
  "language_info": {
   "codemirror_mode": {
    "name": "ipython",
    "version": 3
   },
   "file_extension": ".py",
   "mimetype": "text/x-python",
   "name": "python",
   "nbconvert_exporter": "python",
   "pygments_lexer": "ipython3",
   "version": "3.11.4"
  }
 },
 "nbformat": 4,
 "nbformat_minor": 4
}
