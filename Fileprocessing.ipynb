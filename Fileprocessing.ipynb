{
 "cells": [
  {
   "cell_type": "code",
   "execution_count": 4,
   "id": "41775368-6318-473a-89e1-1952639bde04",
   "metadata": {},
   "outputs": [],
   "source": [
    "#import relevant libraries\n",
    "import sys\n",
    "import os\n",
    "import glob\n",
    "\n",
    "import numpy as np\n",
    "import scipy as sp\n",
    "import pandas as pd\n",
    "import matplotlib as mpl\n",
    "import datetime as dt8\n",
    "import math\n",
    "import matplotlib.pyplot as plt\n",
    "import decimal\n",
    "\n",
    "import dabest\n",
    "import NLCLIMB\n",
    "\n",
    "#NOTE: SUPPRESSES WARNINGS!\n",
    "\n",
    "import warnings\n",
    "\n",
    "warnings.simplefilter(action=\"ignore\", category=RuntimeWarning)\n",
    "#warnings.simplefilter(action=\"default\", category=RuntimeWarning)\n"
   ]
  },
  {
   "cell_type": "code",
   "execution_count": 17,
   "id": "a2542bae-6157-49a6-8dda-713e72725069",
   "metadata": {},
   "outputs": [
    {
     "name": "stdout",
     "output_type": "stream",
     "text": [
      "C:\\Users\\lnico\\ACC Lab Dropbox\\ACC Lab\\Nicole Lee\\DATA\\Falling\\Falling_Chrimson2\\VT999036 x Tsh_Chrimson2\n"
     ]
    }
   ],
   "source": [
    "#initial file processing\n",
    "\n",
    "\n",
    "path0 = \"C:\\\\Users\\\\lnico\\\\\"\n",
    "path1 = \"D:\\\\\"\n",
    "path2 = \"ACC Lab Dropbox\\\\ACC Lab\\\\Nicole Lee\\\\DATA\\\\Falling\\\\Falling_Chrimson2\\\\\"\n",
    "\n",
    "specifiedpath = path0\n",
    "openPath = specifiedpath + path2\n",
    "\n",
    "\n",
    "files = os.listdir(openPath)\n",
    "\n",
    "#identifying genotypes\n",
    "responder = \"Tsh_Chrimson2\"\n",
    "driver = \"VT999036\"\n",
    "wt = \"w1118\"\n",
    "filename = openPath + driver + \" x \" + responder\n",
    "print(filename)"
   ]
  },
  {
   "cell_type": "code",
   "execution_count": 18,
   "id": "ea657c69-f1b5-4791-955b-95df132d69d4",
   "metadata": {},
   "outputs": [
    {
     "name": "stdout",
     "output_type": "stream",
     "text": [
      "Control fps: 5 ||Control size: (330, 240)\n",
      "EXPT fps: 5 ||EXPT size: (330, 70)\n",
      "n's for control:  119.0\n",
      "n's for expt:  34.0\n"
     ]
    }
   ],
   "source": [
    "df_control, fpscontrol = NLCLIMB.control(filename, wt)\n",
    "df_expt, fpsexpt = NLCLIMB.trans(filename, driver, wt)\n",
    "\n",
    "print(\"Control fps:\", fpscontrol, \"||Control size:\", df_control.shape)\n",
    "print(\"EXPT fps:\", fpsexpt, \"||EXPT size:\", df_expt.shape)\n",
    "print(\"n's for control: \", (len(df_control.columns)-2)*0.5)\n",
    "print(\"n's for expt: \", (len(df_expt.columns)-2)*0.5)\n",
    "\n"
   ]
  },
  {
   "cell_type": "code",
   "execution_count": 19,
   "id": "2dea6ec8",
   "metadata": {},
   "outputs": [
    {
     "name": "stdout",
     "output_type": "stream",
     "text": [
      "C:\\Users\\lnico\\ACC Lab Dropbox\\ACC Lab\\Nicole Lee\\Data Compilation\\Falling_NEW\\w1118_VT999036 x Tsh_Chrimson2.csv\n",
      "COMPLETED!!\n"
     ]
    }
   ],
   "source": [
    "#savefolder = openPath + \"Compilation\\\\\"\n",
    "savefolder = path0 + \"ACC Lab Dropbox\\\\ACC Lab\\\\Nicole Lee\\\\Data Compilation\\\\Falling_NEW\"\n",
    "df_control.to_csv(savefolder+\"\\\\\"+wt+\"_\"+ driver + \" x \" + responder +'.csv')\n",
    "df_expt.to_csv(savefolder+\"\\\\\"+ driver + \" x \" + responder +'.csv')\n",
    "\n",
    "print(savefolder+\"\\\\\"+wt+\"_\"+ driver + \" x \" + responder +'.csv')\n",
    "print(\"COMPLETED!!\")"
   ]
  },
  {
   "cell_type": "code",
   "execution_count": null,
   "id": "9c406764",
   "metadata": {},
   "outputs": [],
   "source": []
  },
  {
   "cell_type": "code",
   "execution_count": null,
   "id": "23e3a955",
   "metadata": {},
   "outputs": [],
   "source": []
  }
 ],
 "metadata": {
  "kernelspec": {
   "display_name": "Python 3 (ipykernel)",
   "language": "python",
   "name": "python3"
  },
  "language_info": {
   "codemirror_mode": {
    "name": "ipython",
    "version": 3
   },
   "file_extension": ".py",
   "mimetype": "text/x-python",
   "name": "python",
   "nbconvert_exporter": "python",
   "pygments_lexer": "ipython3",
   "version": "3.11.4"
  }
 },
 "nbformat": 4,
 "nbformat_minor": 5
}
